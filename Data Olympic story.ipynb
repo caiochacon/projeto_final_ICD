{
 "cells": [
  {
   "cell_type": "markdown",
   "metadata": {},
   "source": [
    "# Uma visão geral dos atletas das Olimpiadas (COLOCAR FOTOS)\n",
    "\n",
    "### Integrantes:\n",
    "- Caio Lucas da Silva Chacon 20200025769\n",
    "- Luiz Fernando Costa dos Santos 20200025446\n",
    "- Moisés Filipe Coutinho Correia Santos 20200025689"
   ]
  },
  {
   "cell_type": "markdown",
   "metadata": {},
   "source": [
    "## Introdução e objetivos\n",
    "\n",
    "Após o atraso das Olímpiadas de Tokyo em 2020 devido a pandemia do novo Coronavírus SARSCOVID-19, finalmente foi anunciada a nova data para a realização do evento: 24/07/2021. Com menos de um mês para o início da maior e mais consagrada competição esportiva do mundo, iremos desbravar o histórico do torneio e fazer uma análise descritiva dos seus dados.\n",
    "\n",
    "Para tanto, os conceitos de Data-driven journalism e os princípios da visualização de dados serão levados em consideração, a fim de criar uma história digna de capa de jornal e agradar os leitores.\n",
    "\n",
    "### Objetivo geral:\n",
    "- Apresentar os dados dos atletas olímpicos de forma simplificada.\n",
    "\n",
    "### Objetivos específicos:\n",
    "- Descobrir como o peso e a altura dos atletas influenciam na quantidade de medalhas obtidas;\n",
    "- Quantificar as medalhas por país ao longo do tempo;\n",
    "- Entender a participação das mulheres nas olimpiadas;\n",
    "- Encontrar os maiores medalhistas da história;"
   ]
  },
  {
   "cell_type": "markdown",
   "metadata": {},
   "source": [
    "#### Bibliotecas utilizadas\n",
    "\n",
    "Para a análise, as seguintes bibliotecas foram utilizadas:\n",
    "\n",
    "Você pode encontrar a versão delas [nessa página](google.com)"
   ]
  },
  {
   "cell_type": "code",
   "execution_count": null,
   "metadata": {},
   "outputs": [],
   "source": [
    "import pandas as pd\n",
    "import numpy as np\n",
    "import seaborn as sns\n",
    "import matplotlib.pyplot as plt\n",
    "import warnings\n",
    "import plotly.graph_objects as go\n",
    "import requests\n",
    "\n",
    "from bs4 import BeautifulSoup\n",
    "from sklearn.linear_model import LinearRegression\n",
    "from sklearn.cluster import KMeans\n",
    "from IPython.core.display import display, HTML\n",
    "\n",
    "sns.set_palette(\"twilight\")\n",
    "warnings.filterwarnings(\"ignore\")"
   ]
  },
  {
   "cell_type": "markdown",
   "metadata": {},
   "source": [
    "#### Dados\n",
    "\n",
    "Os dados foram obtidos no [Kaggle](https://www.kaggle.com/heesoo37/120-years-of-olympic-history-athletes-and-results) e serviram como base para todo o projeto. O arquivo athlete_events.csv contém 271116 linhas e 15 colunas, abrangendo os jogos de Athenas em 1896 até os jogos no Rio em 2016. Cada linha corresponde a um atleta individual competinto em um evento olimpico. As colunas são:\n",
    "\n",
    "- ID (inteiro): Número único para cada atleta;\n",
    "- Name (string): Nome do atlet;\n",
    "- Sex (string): Sexo do atleta (Masculino ou Feminino);\n",
    "- Age (inteiro): Idade do atleta;\n",
    "- Height (float): Altura do atleta (em centimetros);\n",
    "- Weight (float): Peso do atleta (em kilogramas);\n",
    "- Team (string): Nome do time;\n",
    "- NOC (string): Código de 3 letras do Comitê Olímpico Nacional para um país;\n",
    "- Games (string): Ano e estação em que a edição da olimpíada acontece;\n",
    "- Year (inteiro): Ano em que a edição da olimpíada acontece;\n",
    "- Season (string): Estação em que a olimpíada acontece (verão ou inverno);\n",
    "- City (string): Cidade sede da edição das olimpíadas;\n",
    "- Sport (string): Modalidade esportiva que o atleta participou;\n",
    "- Event (string): Descrição da categoria evento esportivo;\n",
    "- Medal (string): Informa qual medalha o atleta ganhou (ouro, prata, bronze ou nenhuma[nan]). "
   ]
  },
  {
   "cell_type": "code",
   "execution_count": null,
   "metadata": {},
   "outputs": [],
   "source": [
    "PATH = \"athlete_events.csv\" \n",
    "\n",
    "df = pd.read_csv(PATH)  \n",
    "df.head()"
   ]
  },
  {
   "cell_type": "markdown",
   "metadata": {},
   "source": [
    "Aqui é mensurado a centralidade e dispersão da altura, peso e idade dos atletas"
   ]
  },
  {
   "cell_type": "code",
   "execution_count": null,
   "metadata": {},
   "outputs": [],
   "source": [
    "#chosing the columns to be used\n",
    "physiological_cols = [\"Age\", \"Height\", \"Weight\"]\n",
    "\n",
    "df[physiological_cols].describe().iloc[1:,]"
   ]
  },
  {
   "cell_type": "markdown",
   "metadata": {},
   "source": [
    "Percebe-se que boa parte dos atletas estão na faixa dos 21 e 28 anos, a média de altura é de 175 cm, que é basicamente idêntica à mediana. Assim como o peso, que fica na faixa dos 70 kg."
   ]
  },
  {
   "cell_type": "markdown",
   "metadata": {},
   "source": [
    "# TO DO: Deixar a exploração inicial mais completa. Fazer gráficos basicões mesmo das colunas principais. Mostra médias, medianas, tendências. Não agrega nada, coloca apenas o básico."
   ]
  },
  {
   "cell_type": "markdown",
   "metadata": {},
   "source": [
    "#### Pré-processamento\n",
    "\n",
    "O pré-processamento foi feito para resolver o problema com valores ausentes e permitir que novas analises sejam realizadas mais abaixo. Todo o pré-processamento está aqui, porém ele foi realizado em momentos diferentes, adaptados para a necessidade do momento."
   ]
  },
  {
   "cell_type": "code",
   "execution_count": null,
   "metadata": {},
   "outputs": [],
   "source": [
    "# Procurando por valores ausentes\n",
    "df.info()"
   ]
  },
  {
   "cell_type": "markdown",
   "metadata": {},
   "source": [
    "Para transformar os valores faltantes serão usados os valores da média de cada esporte em que o atleta participa. Essa é uma boa escolha porque preserva as principais características de cada esporte. Por exemplo: atletas de basquete são geralmente mais altos que a média dos outros competidores."
   ]
  },
  {
   "cell_type": "code",
   "execution_count": null,
   "metadata": {},
   "outputs": [],
   "source": [
    "# Cria o dict {sport: mean_age_by_sport}\n",
    "mean_age_by_sport = df.groupby(\"Sport\").mean().reset_index().drop(columns = [\"Height\",\"Year\",\"ID\",\"Weight\"])\n",
    "mean_age_dict = dict(zip(mean_age_by_sport[\"Sport\"],mean_age_by_sport[\"Age\"]))\n",
    "\n",
    "# Transforma valores nulos pela média de idade do esporte\n",
    "null_ages = df[pd.isnull(df[\"Age\"])]\n",
    "null_ages[\"Age\"] = null_ages[\"Sport\"].map(mean_age_dict)\n",
    "df[\"Age\"].fillna(null_ages[\"Age\"],inplace=True)\n",
    "# 9474 valores transformados\n",
    "\n",
    "mean_height_by_sport = df.groupby(\"Sport\").mean().reset_index().drop(columns = [\"Age\",\"Year\",\"ID\",\"Weight\"])\n",
    "mean_height_dict = dict(zip(mean_height_by_sport[\"Sport\"],mean_height_by_sport[\"Height\"]))\n",
    "\n",
    "# Transforma valores nulos pela média de altura do esporte\n",
    "null_heights = df[pd.isnull(df[\"Height\"])]\n",
    "null_heights[\"Height\"] = null_heights[\"Sport\"].map(mean_height_dict)\n",
    "df[\"Height\"].fillna(null_heights[\"Height\"],inplace=True)\n",
    "# 60072 valores transformados\n",
    "\n",
    "mean_weight_by_sport = df.groupby(\"Sport\").mean().reset_index().drop(columns = [\"Age\",\"Year\",\"ID\",\"Height\"])\n",
    "mean_weight_dict = dict(zip(mean_weight_by_sport[\"Sport\"],mean_weight_by_sport[\"Weight\"]))\n",
    "\n",
    "# Transforma valores nulos pela média de peso do esporte\n",
    "null_weights = df[pd.isnull(df[\"Weight\"])]\n",
    "null_weights[\"Weight\"] = null_weights[\"Sport\"].map(mean_weight_dict)\n",
    "df[\"Weight\"].fillna(null_weights[\"Weight\"],inplace=True)\n",
    "df.info() # 62658 values transformed"
   ]
  },
  {
   "cell_type": "code",
   "execution_count": null,
   "metadata": {},
   "outputs": [],
   "source": [
    "# Transforma os valores nulos de medalha por \"No medal\"\n",
    "df[\"Medal\"].fillna(\"No medal\",inplace=True)"
   ]
  },
  {
   "cell_type": "code",
   "execution_count": null,
   "metadata": {},
   "outputs": [],
   "source": [
    "# Exclui os valores nulos remanescentes, uma vez que não existem mais boas abordagens \n",
    "# para transformá-los\n",
    "df.dropna(inplace=True)\n",
    "df.info()"
   ]
  },
  {
   "cell_type": "code",
   "execution_count": null,
   "metadata": {},
   "outputs": [],
   "source": [
    "# Transforma idade, altura e peso em inteiros\n",
    "df = df.astype({\"Age\":int,\"Height\":int,\"Weight\":int})\n",
    "df.head()"
   ]
  },
  {
   "cell_type": "markdown",
   "metadata": {},
   "source": [
    "Em um momento, o software Flourish foi necessário para criar um _\"racebar chart\"_ , e para isso foi necessário um outro pré-processamento. Abaixo, segue o que foi realizado nele de maneira comentada, para que não aja conflito com os demais códigos:"
   ]
  },
  {
   "cell_type": "code",
   "execution_count": null,
   "metadata": {},
   "outputs": [],
   "source": [
    "# Aqui é escolhido apenas as Olimpíadas de verão e transforma as medalhas em valor booleano\n",
    "# df = df[df[\"Season\"] == \"Summer\"]\n",
    "# df[\"Medal\"] = (df[\"Medal\"].isna()==False)"
   ]
  },
  {
   "cell_type": "code",
   "execution_count": null,
   "metadata": {},
   "outputs": [],
   "source": [
    "# Função criada para que seja possível passar as informações dos dados para o Flourish\n",
    "def to_flourish(data, var):\n",
    "    series_VY = data.groupby([var,\"Year\"]).sum()[\"Medal\"]\n",
    "\n",
    "    YEARS_QT = data[\"Year\"].unique().size\n",
    "    VAR_QT = data[var].unique().size\n",
    "\n",
    "    YEARS = sorted(data[\"Year\"].unique())\n",
    "    VAR = sorted(data[var].unique())\n",
    "\n",
    "    array_zeros = np.zeros(shape=(YEARS_QT, VAR_QT))\n",
    "    data_zeros = pd.DataFrame(data=array_zeros, index=YEARS, columns=VAR)\n",
    "\n",
    "    for i in VAR:\n",
    "        data_zeros[i] = data_zeros[i] + series_VY[i].cumsum()\n",
    "        \n",
    "    data_final = data_zeros.fillna(method=\"ffill\")\n",
    "    \n",
    "    return data_final.T.fillna(0)"
   ]
  },
  {
   "cell_type": "code",
   "execution_count": null,
   "metadata": {},
   "outputs": [],
   "source": [
    "# Primeiro dataset para o flourish, que contém os dados das medalhas divididos pelo NOC\n",
    "# df_top15 = to_flourish(df, \"NOC\")\n",
    "\n"
   ]
  },
  {
   "cell_type": "code",
   "execution_count": null,
   "metadata": {},
   "outputs": [],
   "source": [
    "# O que faltava era preencher o dataframe com as bandeiras de cada país\n",
    "\n",
    "# PATH_2 = \"./data/noc_regions.csv\"\n",
    "# noc_reg = pd.read_csv(PATH_2)\n",
    "\n",
    "# Função para pegar a URL do NOC dado\n",
    "def get_link_flag(NOC):\n",
    "    countr = noc_reg[noc_reg[\"NOC\"] == NOC][\"region\"].values[0] # The name of the country \n",
    "    url = f\"https://pt.wikipedia.org/wiki/Ficheiro:Flag_of_{countr}.svg\" # the url of the wikipedia flags website\n",
    "    html = requests.get(url).text \n",
    "    soup = BeautifulSoup(html, \"html.parser\")\n",
    "\n",
    "    CLASS_ = \"fullImageLink\" # The class with the image url\n",
    "    string = str(soup.find_all(\"div\", {\"class\":CLASS_})[0]) # All the class in str type\n",
    "    \n",
    "    # Searching for the scr and .png to get the url \n",
    "    start = string.find(\"src=\") + 7 \n",
    "    end = string.find(\".png\") + 4\n",
    "    \n",
    "    return string[start:end]\n",
    "\n",
    "\n",
    "# pegar todas as URL's para cada NOC\n",
    "# not_found = []\n",
    "# found = []\n",
    "\n",
    "# for i in noc_reg[\"NOC\"].values:\n",
    "#     try:\n",
    "#         found.append(\"https://\"+get_link_flag(i))\n",
    "#     except IndexError:\n",
    "#         not_found.append(i)\n",
    "#         found.append(i)\n",
    "#         continue\n",
    "    \n",
    "# Criando uma nova coluna para as URL's dadas\n",
    "# df_top15[\"FLAGS\"] = found \n",
    "# df_top15.head()"
   ]
  },
  {
   "cell_type": "code",
   "execution_count": null,
   "metadata": {},
   "outputs": [],
   "source": [
    "# Cuidando dos not_found manualmente\n",
    "\n",
    "# URLS = [\"https://upload.wikimedia.org/wikipedia/commons/thumb/d/de/Flag_of_Bolivia_%28state%29.svg/800px-Flag_of_Bolivia_%28state%29.svg.png\",\n",
    "#         \"https://upload.wikimedia.org/wikipedia/commons/thumb/6/6f/Flag_of_the_Democratic_Republic_of_the_Congo.svg/800px-Flag_of_the_Democratic_Republic_of_the_Congo.svg.png\",\n",
    "#         \"https://upload.wikimedia.org/wikipedia/commons/0/08/Flag_of_the_Individual_Olympic_Athletes_%282000_Summer_Olympics%29.svg\",\n",
    "#         \"https://upload.wikimedia.org/wikipedia/commons/thumb/f/f8/Flag_of_the_United_States_Virgin_Islands.svg/1275px-Flag_of_the_United_States_Virgin_Islands.svg.png\",\n",
    "#         \"https://upload.wikimedia.org/wikipedia/commons/thumb/4/42/Flag_of_the_British_Virgin_Islands.svg/1200px-Flag_of_the_British_Virgin_Islands.svg.png\",\n",
    "#         \"https://compote.slate.com/images/57d479a0-63d2-4462-97b0-1275e4efefe1.jpg\",\n",
    "#         \"https://upload.wikimedia.org/wikipedia/commons/f/fe/Flag_of_Saint_Kitts_and_Nevis.svg\",\n",
    "#         \"https://www.countryflags.com/wp-content/uploads/trinidad-and-tobago-flag-png-large.png\",\n",
    "#         \"https://upload.wikimedia.org/wikipedia/commons/thumb/3/38/Flag_of_Tuvalu.svg/1200px-Flag_of_Tuvalu.svg.png\",\n",
    "#         \"https://upload.wikimedia.org/wikipedia/commons/2/2e/Unknown_flag_-_European_version.png\",\n",
    "#         \"https://upload.wikimedia.org/wikipedia/commons/thumb/6/6d/Flag_of_Saint_Vincent_and_the_Grenadines.svg/1200px-Flag_of_Saint_Vincent_and_the_Grenadines.svg.png\",\n",
    "#         \"https://upload.wikimedia.org/wikipedia/commons/thumb/1/15/Flag_of_the_West_Indies_Federation_%281958%E2%80%931962%29.svg/1200px-Flag_of_the_West_Indies_Federation_%281958%E2%80%931962%29.svg.png\"]\n",
    "\n",
    "# for i,url in enumerate(URLS):\n",
    "#     df_top15.loc[not_found[i],\"FLAGS\"] = url\n",
    "\n",
    "# # This 2 changes is because:\n",
    "# #                           the NOC of URS was \"Russia\", but should be \"URSS\";\n",
    "# #                           GDR was \"Germany\", but should be \"East Germany\".\n",
    "\n",
    "# df_top15.loc[\"GDR\",\"FLAGS\"] = \"https://upload.wikimedia.org/wikipedia/commons/thumb/a/a1/Flag_of_East_Germany.svg/1280px-Flag_of_East_Germany.svg.png\"\n",
    "# df_top15.loc[\"URS\",\"FLAGS\"] = \"https://upload.wikimedia.org/wikipedia/commons/thumb/a/a9/Flag_of_the_Soviet_Union.svg/1200px-Flag_of_the_Soviet_Union.svg.png\""
   ]
  },
  {
   "cell_type": "code",
   "execution_count": null,
   "metadata": {},
   "outputs": [],
   "source": [
    "# exporting the csv for flourish\n",
    "# PATH_3 = \"./data/df_for_flourish_top15.csv\"\n",
    "\n",
    "# df_top15.to_csv(PATH_3)"
   ]
  },
  {
   "cell_type": "code",
   "execution_count": null,
   "metadata": {},
   "outputs": [],
   "source": [
    "# Pegando os dados do Brasil e Estados Unidos para criar novas visualizações no Flourish\n",
    "# br = df[df[\"NOC\"] == \"BRA\"]\n",
    "# us = df[df[\"NOC\"] == \"USA\"]\n",
    "\n",
    "# br_final = to_flourish(br, \"Sport\")\n",
    "# us_final = to_flourish(us, \"Sport\")\n",
    "\n",
    "# PATH_4 = \"./data/df_for_flourish_BR.csv\"\n",
    "\n",
    "# br_final.to_csv(PATH_4)\n",
    "\n",
    "# PATH_5 = \"./data/df_for_flourish_US.csv\"\n",
    "\n",
    "# us_final.to_csv(PATH_5)"
   ]
  },
  {
   "cell_type": "code",
   "execution_count": null,
   "metadata": {},
   "outputs": [],
   "source": []
  },
  {
   "cell_type": "code",
   "execution_count": null,
   "metadata": {},
   "outputs": [],
   "source": []
  },
  {
   "cell_type": "markdown",
   "metadata": {},
   "source": [
    "Racebar..."
   ]
  },
  {
   "cell_type": "code",
   "execution_count": null,
   "metadata": {},
   "outputs": [],
   "source": [
    "flourish_url = \"<iframe src='https://flo.uri.sh/visualisation/6409642/embed' title='Interactive or visual content' class='flourish-embed-iframe' frameborder='0' scrolling='no' style='width:100%;height:600px;' sandbox='allow-same-origin allow-forms allow-scripts allow-downloads allow-popups allow-popups-to-escape-sandbox allow-top-navigation-by-user-activation'></iframe><div style='width:100%!;margin-top:4px!important;text-align:right!important;'><a class='flourish-credit' href='https://public.flourish.studio/visualisation/6409642/?utm_source=embed&utm_campaign=visualisation/6409642' target='_top' style='text-decoration:none!important'><img alt='Made with Flourish' src='https://public.flourish.studio/resources/made_with_flourish.svg' style='width:105px!important;height:16px!important;border:none!important;margin:0!important;'> </a></div>\"\n",
    "#geralzao\n",
    "display(HTML(flourish_url))"
   ]
  },
  {
   "cell_type": "code",
   "execution_count": null,
   "metadata": {},
   "outputs": [],
   "source": [
    "flourish_url_br = \"<iframe src='https://flo.uri.sh/visualisation/6500927/embed' title='Interactive or visual content' class='flourish-embed-iframe' frameborder='0' scrolling='no' style='width:100%;height:600px;' sandbox='allow-same-origin allow-forms allow-scripts allow-downloads allow-popups allow-popups-to-escape-sandbox allow-top-navigation-by-user-activation'></iframe><div style='width:100%!;margin-top:4px!important;text-align:right!important;'><a class='flourish-credit' href='https://public.flourish.studio/visualisation/6500927/?utm_source=embed&utm_campaign=visualisation/6500927' target='_top' style='text-decoration:none!important'><img alt='Made with Flourish' src='https://public.flourish.studio/resources/made_with_flourish.svg' style='width:105px!important;height:16px!important;border:none!important;margin:0!important;'> </a></div>\"\n",
    "#apenas br\n",
    "display(HTML(flourish_url_br))"
   ]
  },
  {
   "cell_type": "code",
   "execution_count": null,
   "metadata": {},
   "outputs": [],
   "source": [
    "flourish_url_us = \"<iframe src='https://flo.uri.sh/visualisation/6502031/embed' title='Interactive or visual content' class='flourish-embed-iframe' frameborder='0' scrolling='no' style='width:100%;height:600px;' sandbox='allow-same-origin allow-forms allow-scripts allow-downloads allow-popups allow-popups-to-escape-sandbox allow-top-navigation-by-user-activation'></iframe><div style='width:100%!;margin-top:4px!important;text-align:right!important;'><a class='flourish-credit' href='https://public.flourish.studio/visualisation/6502031/?utm_source=embed&utm_campaign=visualisation/6502031' target='_top' style='text-decoration:none!important'><img alt='Made with Flourish' src='https://public.flourish.studio/resources/made_with_flourish.svg' style='width:105px!important;height:16px!important;border:none!important;margin:0!important;'> </a></div>\"\n",
    "#apenas us\n",
    "display(HTML(flourish_url_us))"
   ]
  }
 ],
 "metadata": {
  "kernelspec": {
   "display_name": "Python 3",
   "language": "python",
   "name": "python3"
  },
  "language_info": {
   "codemirror_mode": {
    "name": "ipython",
    "version": 3
   },
   "file_extension": ".py",
   "mimetype": "text/x-python",
   "name": "python",
   "nbconvert_exporter": "python",
   "pygments_lexer": "ipython3",
   "version": "3.8.3"
  }
 },
 "nbformat": 4,
 "nbformat_minor": 4
}
